{
 "cells": [
  {
   "cell_type": "markdown",
   "metadata": {},
   "source": [
    "# LPPUFv1 Reliability Correlation Analysis Layer 3"
   ]
  },
  {
   "cell_type": "code",
   "execution_count": 1,
   "metadata": {},
   "outputs": [],
   "source": [
    "import numpy as np\n",
    "import scipy as sp\n",
    "import scipy.stats\n",
    "import pypuf.batch\n",
    "import pypuf.metrics\n",
    "\n",
    "from lppuf import LPPUFv1"
   ]
  },
  {
   "cell_type": "code",
   "execution_count": 2,
   "metadata": {},
   "outputs": [],
   "source": [
    "import logging\n",
    "\n",
    "logging.basicConfig(level=logging.DEBUG)\n",
    "logging.getLogger('matplotlib').setLevel(logging.ERROR)"
   ]
  },
  {
   "cell_type": "code",
   "execution_count": 3,
   "metadata": {},
   "outputs": [],
   "source": [
    "%%bash\n",
    "mkdir -p results/v1/reliability-correlation-layer-3"
   ]
  },
  {
   "cell_type": "code",
   "execution_count": 4,
   "metadata": {},
   "outputs": [],
   "source": [
    "results = pypuf.batch.FilesystemResultCollection('results/v1/reliabilty-correlation-layer-3')"
   ]
  },
  {
   "cell_type": "code",
   "execution_count": 5,
   "metadata": {},
   "outputs": [],
   "source": [
    "class LPPUFv1ReliabilityCorellationLayer3Analysis(pypuf.batch.StudyBase):\n",
    "    \n",
    "    def parameter_matrix(self):\n",
    "        return [\n",
    "            dict(\n",
    "                n=n,\n",
    "                noisiness_1=noisiness_1,\n",
    "                noisiness_2=noisiness_2,\n",
    "                seed=seed,\n",
    "                m=m,\n",
    "            )\n",
    "            for n in [64]\n",
    "            for noisiness_1 in [.1]  # .1 selected for design\n",
    "            for noisiness_2 in [0, .01]\n",
    "            for seed in range(30)\n",
    "            for m in [1, 2, 4, 8, 16]\n",
    "        ]\n",
    "    \n",
    "    def run(self, n, noisiness_1, noisiness_2, seed, m):\n",
    "        puf = LPPUFv1(n=n, m=m, noisiness_1=noisiness_1, noisiness_2=noisiness_2, seed=seed)\n",
    "        pufa = LPPUFv1(n=n, m=m, noisiness_1=noisiness_1, noisiness_2=noisiness_2, seed=seed+1)\n",
    "        \n",
    "        r = 5\n",
    "        N = 1000\n",
    "        \n",
    "        # generate overall CRPs\n",
    "        challenges = pypuf.io.random_inputs(n=n, N=N, seed=1)\n",
    "        \n",
    "        # guess CRPs for layer 3\n",
    "        guessed_layer1_responses = pypuf.io.random_inputs(n=m, N=N, seed=2)\n",
    "        guessed_layer2_inputs = np.concatenate((challenges, guessed_layer1_responses), axis=1)\n",
    "        guessed_layer3_inputs = puf.layer[1].eval(guessed_layer2_inputs)  # using puf instance function for convenience, but actually only public info\n",
    "\n",
    "        # reliability of layer 3 on guessed responses compared to LP-PUF and unrelated LP-PUF\n",
    "        r1 = np.average(puf.layer[2].r_eval(r=r, challenges=guessed_layer3_inputs), axis=-1)\n",
    "        r2 = np.average(puf.r_eval(r=r, challenges=challenges), axis=-1)\n",
    "        r2a = np.average(pufa.r_eval(r=r, challenges=challenges), axis=-1)\n",
    "        \n",
    "        return {\n",
    "            'rcorr': sp.stats.pearsonr(r1[:, 0], r2[: , 0])[0],\n",
    "            'rcorra': sp.stats.pearsonr(r1[:, 0], r2a[: , 0])[0],\n",
    "        } "
   ]
  },
  {
   "cell_type": "code",
   "execution_count": 6,
   "metadata": {},
   "outputs": [],
   "source": [
    "study = LPPUFv1ReliabilityCorellationLayer3Analysis(results)"
   ]
  },
  {
   "cell_type": "code",
   "execution_count": 7,
   "metadata": {},
   "outputs": [
    {
     "name": "stderr",
     "output_type": "stream",
     "text": [
      "DEBUG:root:LPPUFv1ReliabilityCorellationLayer3Analysis: running 0 unfinished jobs from a batch of 300 (300 of this batch already completed, batch total 300, study total 300 jobs)\n"
     ]
    }
   ],
   "source": [
    "study.run_all()"
   ]
  },
  {
   "cell_type": "code",
   "execution_count": 8,
   "metadata": {},
   "outputs": [],
   "source": [
    "import pandas as pd"
   ]
  },
  {
   "cell_type": "code",
   "execution_count": 9,
   "metadata": {},
   "outputs": [],
   "source": [
    "data = pd.DataFrame(results.load_all())"
   ]
  },
  {
   "cell_type": "code",
   "execution_count": 10,
   "metadata": {},
   "outputs": [],
   "source": [
    "data['rcorr_abs_max'] = data.apply(lambda row: np.abs(row['rcorr']).max(), axis=1)\n",
    "data['rcorr_abs_avg'] = data.apply(lambda row: np.abs(row['rcorr']).mean(), axis=1)\n",
    "data['rcorra_abs_max'] = data.apply(lambda row: np.abs(row['rcorra']).max(), axis=1)\n",
    "data['rcorra_abs_avg'] = data.apply(lambda row: np.abs(row['rcorra']).mean(), axis=1)"
   ]
  },
  {
   "cell_type": "code",
   "execution_count": 11,
   "metadata": {},
   "outputs": [],
   "source": [
    "import matplotlib.pyplot as plt\n",
    "import seaborn as sns"
   ]
  },
  {
   "cell_type": "code",
   "execution_count": 12,
   "metadata": {},
   "outputs": [
    {
     "data": {
      "text/html": [
       "<div>\n",
       "<style scoped>\n",
       "    .dataframe tbody tr th:only-of-type {\n",
       "        vertical-align: middle;\n",
       "    }\n",
       "\n",
       "    .dataframe tbody tr th {\n",
       "        vertical-align: top;\n",
       "    }\n",
       "\n",
       "    .dataframe thead th {\n",
       "        text-align: right;\n",
       "    }\n",
       "</style>\n",
       "<table border=\"1\" class=\"dataframe\">\n",
       "  <thead>\n",
       "    <tr style=\"text-align: right;\">\n",
       "      <th></th>\n",
       "      <th>n</th>\n",
       "      <th>noisiness_1</th>\n",
       "      <th>noisiness_2</th>\n",
       "      <th>seed</th>\n",
       "      <th>m</th>\n",
       "      <th>Correlation of Layer 3 reliability under guessed challenges with</th>\n",
       "      <th>correlation</th>\n",
       "    </tr>\n",
       "  </thead>\n",
       "  <tbody>\n",
       "    <tr>\n",
       "      <th>0</th>\n",
       "      <td>64</td>\n",
       "      <td>0.1</td>\n",
       "      <td>0.00</td>\n",
       "      <td>9</td>\n",
       "      <td>16</td>\n",
       "      <td>LP-PUF Overall Reliability</td>\n",
       "      <td>0.008149</td>\n",
       "    </tr>\n",
       "    <tr>\n",
       "      <th>1</th>\n",
       "      <td>64</td>\n",
       "      <td>0.1</td>\n",
       "      <td>0.01</td>\n",
       "      <td>1</td>\n",
       "      <td>4</td>\n",
       "      <td>LP-PUF Overall Reliability</td>\n",
       "      <td>0.158817</td>\n",
       "    </tr>\n",
       "    <tr>\n",
       "      <th>2</th>\n",
       "      <td>64</td>\n",
       "      <td>0.1</td>\n",
       "      <td>0.00</td>\n",
       "      <td>10</td>\n",
       "      <td>4</td>\n",
       "      <td>LP-PUF Overall Reliability</td>\n",
       "      <td>0.120844</td>\n",
       "    </tr>\n",
       "    <tr>\n",
       "      <th>3</th>\n",
       "      <td>64</td>\n",
       "      <td>0.1</td>\n",
       "      <td>0.01</td>\n",
       "      <td>12</td>\n",
       "      <td>4</td>\n",
       "      <td>LP-PUF Overall Reliability</td>\n",
       "      <td>0.113856</td>\n",
       "    </tr>\n",
       "    <tr>\n",
       "      <th>4</th>\n",
       "      <td>64</td>\n",
       "      <td>0.1</td>\n",
       "      <td>0.01</td>\n",
       "      <td>22</td>\n",
       "      <td>4</td>\n",
       "      <td>LP-PUF Overall Reliability</td>\n",
       "      <td>0.090663</td>\n",
       "    </tr>\n",
       "    <tr>\n",
       "      <th>...</th>\n",
       "      <td>...</td>\n",
       "      <td>...</td>\n",
       "      <td>...</td>\n",
       "      <td>...</td>\n",
       "      <td>...</td>\n",
       "      <td>...</td>\n",
       "      <td>...</td>\n",
       "    </tr>\n",
       "    <tr>\n",
       "      <th>595</th>\n",
       "      <td>64</td>\n",
       "      <td>0.1</td>\n",
       "      <td>0.01</td>\n",
       "      <td>28</td>\n",
       "      <td>1</td>\n",
       "      <td>Unrelated LP-PUF Overall Reliability</td>\n",
       "      <td>0.114546</td>\n",
       "    </tr>\n",
       "    <tr>\n",
       "      <th>596</th>\n",
       "      <td>64</td>\n",
       "      <td>0.1</td>\n",
       "      <td>0.00</td>\n",
       "      <td>16</td>\n",
       "      <td>8</td>\n",
       "      <td>Unrelated LP-PUF Overall Reliability</td>\n",
       "      <td>0.031138</td>\n",
       "    </tr>\n",
       "    <tr>\n",
       "      <th>597</th>\n",
       "      <td>64</td>\n",
       "      <td>0.1</td>\n",
       "      <td>0.01</td>\n",
       "      <td>21</td>\n",
       "      <td>8</td>\n",
       "      <td>Unrelated LP-PUF Overall Reliability</td>\n",
       "      <td>0.007521</td>\n",
       "    </tr>\n",
       "    <tr>\n",
       "      <th>598</th>\n",
       "      <td>64</td>\n",
       "      <td>0.1</td>\n",
       "      <td>0.00</td>\n",
       "      <td>15</td>\n",
       "      <td>2</td>\n",
       "      <td>Unrelated LP-PUF Overall Reliability</td>\n",
       "      <td>0.006907</td>\n",
       "    </tr>\n",
       "    <tr>\n",
       "      <th>599</th>\n",
       "      <td>64</td>\n",
       "      <td>0.1</td>\n",
       "      <td>0.00</td>\n",
       "      <td>4</td>\n",
       "      <td>4</td>\n",
       "      <td>Unrelated LP-PUF Overall Reliability</td>\n",
       "      <td>0.033485</td>\n",
       "    </tr>\n",
       "  </tbody>\n",
       "</table>\n",
       "<p>600 rows × 7 columns</p>\n",
       "</div>"
      ],
      "text/plain": [
       "      n  noisiness_1  noisiness_2  seed   m  \\\n",
       "0    64          0.1         0.00     9  16   \n",
       "1    64          0.1         0.01     1   4   \n",
       "2    64          0.1         0.00    10   4   \n",
       "3    64          0.1         0.01    12   4   \n",
       "4    64          0.1         0.01    22   4   \n",
       "..   ..          ...          ...   ...  ..   \n",
       "595  64          0.1         0.01    28   1   \n",
       "596  64          0.1         0.00    16   8   \n",
       "597  64          0.1         0.01    21   8   \n",
       "598  64          0.1         0.00    15   2   \n",
       "599  64          0.1         0.00     4   4   \n",
       "\n",
       "    Correlation of Layer 3 reliability under guessed challenges with  \\\n",
       "0                           LP-PUF Overall Reliability                 \n",
       "1                           LP-PUF Overall Reliability                 \n",
       "2                           LP-PUF Overall Reliability                 \n",
       "3                           LP-PUF Overall Reliability                 \n",
       "4                           LP-PUF Overall Reliability                 \n",
       "..                                                 ...                 \n",
       "595               Unrelated LP-PUF Overall Reliability                 \n",
       "596               Unrelated LP-PUF Overall Reliability                 \n",
       "597               Unrelated LP-PUF Overall Reliability                 \n",
       "598               Unrelated LP-PUF Overall Reliability                 \n",
       "599               Unrelated LP-PUF Overall Reliability                 \n",
       "\n",
       "     correlation  \n",
       "0       0.008149  \n",
       "1       0.158817  \n",
       "2       0.120844  \n",
       "3       0.113856  \n",
       "4       0.090663  \n",
       "..           ...  \n",
       "595     0.114546  \n",
       "596     0.031138  \n",
       "597     0.007521  \n",
       "598     0.006907  \n",
       "599     0.033485  \n",
       "\n",
       "[600 rows x 7 columns]"
      ]
     },
     "execution_count": 12,
     "metadata": {},
     "output_type": "execute_result"
    }
   ],
   "source": [
    "data['LP-PUF Overall Reliability'] = data['rcorr_abs_max']\n",
    "data['Unrelated LP-PUF Overall Reliability'] = data['rcorra_abs_max']\n",
    "melted_data = data[data.iloc[0]['parameters']+['LP-PUF Overall Reliability', 'Unrelated LP-PUF Overall Reliability']].melt(\n",
    "    id_vars=data.iloc[0]['parameters'], \n",
    "    var_name='Correlation of Layer 3 reliability under guessed challenges with', \n",
    "    value_name='correlation',\n",
    ")\n",
    "melted_data"
   ]
  },
  {
   "cell_type": "code",
   "execution_count": 20,
   "metadata": {
    "scrolled": false
   },
   "outputs": [
    {
     "data": {
      "image/png": "[encoded data removed]",
      "text/plain": [
       "<Figure size 432x288 with 2 Axes>"
      ]
     },
     "metadata": {
      "needs_background": "light"
     },
     "output_type": "display_data"
    }
   ],
   "source": [
    "melted_data['Noise Layer 1'] = melted_data['noisiness_1']\n",
    "melted_data['Noise Layer 3'] = melted_data['noisiness_2']\n",
    "\n",
    "g = sns.catplot(\n",
    "    data=melted_data,\n",
    "    x='m',\n",
    "    y='correlation',\n",
    "    hue='Correlation of Layer 3 reliability under guessed challenges with',\n",
    "    row='Noise Layer 3',\n",
    "    col='Noise Layer 1',\n",
    "    kind='boxen',\n",
    "    aspect=3/1,\n",
    "    height=2,\n",
    "    legend_out=False\n",
    ")\n",
    "g.tight_layout()\n",
    "g.savefig('figures/lppufv1-reliability-correlation-layer-3.pdf')"
   ]
  },
  {
   "cell_type": "code",
   "execution_count": 21,
   "metadata": {},
   "outputs": [
    {
     "data": {
      "image/png": "[encoded data removed]",
      "text/plain": [
       "<Figure size 432x288 with 2 Axes>"
      ]
     },
     "metadata": {
      "needs_background": "light"
     },
     "output_type": "display_data"
    }
   ],
   "source": [
    "g = sns.catplot(\n",
    "    data=melted_data[melted_data['m'] >= 4],\n",
    "    x='m',\n",
    "    y='correlation',\n",
    "    hue='Correlation of Layer 3 reliability under guessed challenges with',\n",
    "    row='Noise Layer 3',\n",
    "    col='Noise Layer 1',\n",
    "    kind='boxen',\n",
    "    aspect=3/1,\n",
    "    height=2,\n",
    "    legend_out=False,\n",
    ")\n",
    "g.tight_layout()\n",
    "g.savefig('figures/lppufv1-reliability-correlation-layer-3-zoomed.pdf')"
   ]
  },
  {
   "cell_type": "code",
   "execution_count": null,
   "metadata": {},
   "outputs": [],
   "source": []
  }
 ],
 "metadata": {
  "kernelspec": {
   "display_name": "Python 3",
   "language": "python",
   "name": "python3"
  },
  "language_info": {
   "codemirror_mode": {
    "name": "ipython",
    "version": 3
   },
   "file_extension": ".py",
   "mimetype": "text/x-python",
   "name": "python",
   "nbconvert_exporter": "python",
   "pygments_lexer": "ipython3",
   "version": "3.8.10"
  }
 },
 "nbformat": 4,
 "nbformat_minor": 4
}
