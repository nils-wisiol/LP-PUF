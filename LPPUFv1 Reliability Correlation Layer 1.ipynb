{
 "cells": [
  {
   "cell_type": "markdown",
   "metadata": {},
   "source": [
    "# LPPUFv1 Reliability Correlation Analysis Layer 1"
   ]
  },
  {
   "cell_type": "code",
   "execution_count": 1,
   "metadata": {},
   "outputs": [],
   "source": [
    "import numpy as np\n",
    "import scipy as sp\n",
    "import scipy.stats\n",
    "import pypuf.batch\n",
    "import pypuf.metrics\n",
    "\n",
    "from lppuf import LPPUFv1"
   ]
  },
  {
   "cell_type": "code",
   "execution_count": 2,
   "metadata": {},
   "outputs": [],
   "source": [
    "%%bash\n",
    "mkdir -p results/v1/reliability-correlation"
   ]
  },
  {
   "cell_type": "code",
   "execution_count": 3,
   "metadata": {},
   "outputs": [],
   "source": [
    "results = pypuf.batch.FilesystemResultCollection('results/v1/reliabilty-correlation')"
   ]
  },
  {
   "cell_type": "code",
   "execution_count": 4,
   "metadata": {},
   "outputs": [],
   "source": [
    "class LPPUFv1ReliabilityCorellationAnalysis(pypuf.batch.StudyBase):\n",
    "    \n",
    "    def parameter_matrix(self):\n",
    "        return [\n",
    "            dict(\n",
    "                n=n,\n",
    "                noisiness_1=noisiness_1,\n",
    "                noisiness_2=noisiness_2,\n",
    "                seed=seed,\n",
    "                m=m,\n",
    "            )\n",
    "            for n in [64]\n",
    "            for noisiness_1 in [.1]  # .1 selected for design\n",
    "            for noisiness_2 in [0, .01]\n",
    "            for seed in range(30)\n",
    "            for m in [1, 2, 4, 8, 16]\n",
    "        ]\n",
    "    \n",
    "    def run(self, n, noisiness_1, noisiness_2, seed, m):\n",
    "        puf = LPPUFv1(n=n, m=m, noisiness_1=noisiness_1, noisiness_2=noisiness_2, seed=seed)\n",
    "        pufa = LPPUFv1(n=n, m=m, noisiness_1=noisiness_1, noisiness_2=noisiness_2, seed=seed+1)\n",
    "        \n",
    "        r = 15\n",
    "        N = 100000\n",
    "        \n",
    "        challenges = pypuf.io.random_inputs(n=n, N=N, seed=1)\n",
    "        r1 = np.average(puf.layer[0].r_eval(r=r, challenges=challenges), axis=-1)\n",
    "        r2 = np.average(puf.r_eval(r=r, challenges=challenges), axis=-1)\n",
    "        r2a = np.average(pufa.r_eval(r=r, challenges=challenges), axis=-1)\n",
    "        \n",
    "        return {\n",
    "            'rcorr': [sp.stats.pearsonr(r1[:, i], r2[: , 0])[0] for i in range(m)],\n",
    "            'rcorra': [sp.stats.pearsonr(r1[:, i], r2a[: , 0])[0] for i in range(m)],\n",
    "        } "
   ]
  },
  {
   "cell_type": "code",
   "execution_count": null,
   "metadata": {},
   "outputs": [],
   "source": []
  },
  {
   "cell_type": "code",
   "execution_count": 5,
   "metadata": {},
   "outputs": [],
   "source": [
    "study = LPPUFv1ReliabilityCorellationAnalysis(results)"
   ]
  },
  {
   "cell_type": "code",
   "execution_count": 6,
   "metadata": {},
   "outputs": [],
   "source": [
    "study.run_all()"
   ]
  },
  {
   "cell_type": "code",
   "execution_count": 7,
   "metadata": {},
   "outputs": [],
   "source": [
    "import pandas as pd"
   ]
  },
  {
   "cell_type": "code",
   "execution_count": 8,
   "metadata": {},
   "outputs": [],
   "source": [
    "data = pd.DataFrame(results.load_all())"
   ]
  },
  {
   "cell_type": "code",
   "execution_count": 9,
   "metadata": {},
   "outputs": [],
   "source": [
    "data['rcorr_abs_max'] = data.apply(lambda row: np.abs(row['rcorr']).max(), axis=1)\n",
    "data['rcorr_abs_avg'] = data.apply(lambda row: np.abs(row['rcorr']).mean(), axis=1)\n",
    "data['rcorra_abs_max'] = data.apply(lambda row: np.abs(row['rcorra']).max(), axis=1)\n",
    "data['rcorra_abs_avg'] = data.apply(lambda row: np.abs(row['rcorra']).mean(), axis=1)"
   ]
  },
  {
   "cell_type": "code",
   "execution_count": 10,
   "metadata": {},
   "outputs": [],
   "source": [
    "import matplotlib.pyplot as plt\n",
    "import seaborn as sns"
   ]
  },
  {
   "cell_type": "code",
   "execution_count": 11,
   "metadata": {},
   "outputs": [
    {
     "data": {
      "text/html": [
       "<div>\n",
       "<style scoped>\n",
       "    .dataframe tbody tr th:only-of-type {\n",
       "        vertical-align: middle;\n",
       "    }\n",
       "\n",
       "    .dataframe tbody tr th {\n",
       "        vertical-align: top;\n",
       "    }\n",
       "\n",
       "    .dataframe thead th {\n",
       "        text-align: right;\n",
       "    }\n",
       "</style>\n",
       "<table border=\"1\" class=\"dataframe\">\n",
       "  <thead>\n",
       "    <tr style=\"text-align: right;\">\n",
       "      <th></th>\n",
       "      <th>n</th>\n",
       "      <th>noisiness_1</th>\n",
       "      <th>noisiness_2</th>\n",
       "      <th>seed</th>\n",
       "      <th>m</th>\n",
       "      <th>Correlation of Layer 1 reliability with</th>\n",
       "      <th>correlation</th>\n",
       "    </tr>\n",
       "  </thead>\n",
       "  <tbody>\n",
       "    <tr>\n",
       "      <th>0</th>\n",
       "      <td>64</td>\n",
       "      <td>0.1</td>\n",
       "      <td>0.01</td>\n",
       "      <td>24</td>\n",
       "      <td>1</td>\n",
       "      <td>LP-PUF Overall Reliability</td>\n",
       "      <td>0.004603</td>\n",
       "    </tr>\n",
       "    <tr>\n",
       "      <th>1</th>\n",
       "      <td>64</td>\n",
       "      <td>0.1</td>\n",
       "      <td>0.00</td>\n",
       "      <td>8</td>\n",
       "      <td>16</td>\n",
       "      <td>LP-PUF Overall Reliability</td>\n",
       "      <td>0.003649</td>\n",
       "    </tr>\n",
       "    <tr>\n",
       "      <th>2</th>\n",
       "      <td>64</td>\n",
       "      <td>0.1</td>\n",
       "      <td>0.00</td>\n",
       "      <td>23</td>\n",
       "      <td>8</td>\n",
       "      <td>LP-PUF Overall Reliability</td>\n",
       "      <td>0.004828</td>\n",
       "    </tr>\n",
       "    <tr>\n",
       "      <th>3</th>\n",
       "      <td>64</td>\n",
       "      <td>0.1</td>\n",
       "      <td>0.01</td>\n",
       "      <td>22</td>\n",
       "      <td>4</td>\n",
       "      <td>LP-PUF Overall Reliability</td>\n",
       "      <td>0.003341</td>\n",
       "    </tr>\n",
       "    <tr>\n",
       "      <th>4</th>\n",
       "      <td>64</td>\n",
       "      <td>0.1</td>\n",
       "      <td>0.00</td>\n",
       "      <td>13</td>\n",
       "      <td>4</td>\n",
       "      <td>LP-PUF Overall Reliability</td>\n",
       "      <td>0.003983</td>\n",
       "    </tr>\n",
       "    <tr>\n",
       "      <th>...</th>\n",
       "      <td>...</td>\n",
       "      <td>...</td>\n",
       "      <td>...</td>\n",
       "      <td>...</td>\n",
       "      <td>...</td>\n",
       "      <td>...</td>\n",
       "      <td>...</td>\n",
       "    </tr>\n",
       "    <tr>\n",
       "      <th>595</th>\n",
       "      <td>64</td>\n",
       "      <td>0.1</td>\n",
       "      <td>0.01</td>\n",
       "      <td>5</td>\n",
       "      <td>2</td>\n",
       "      <td>Unrelated LP-PUF Overall Reliability</td>\n",
       "      <td>0.004370</td>\n",
       "    </tr>\n",
       "    <tr>\n",
       "      <th>596</th>\n",
       "      <td>64</td>\n",
       "      <td>0.1</td>\n",
       "      <td>0.01</td>\n",
       "      <td>25</td>\n",
       "      <td>16</td>\n",
       "      <td>Unrelated LP-PUF Overall Reliability</td>\n",
       "      <td>0.006729</td>\n",
       "    </tr>\n",
       "    <tr>\n",
       "      <th>597</th>\n",
       "      <td>64</td>\n",
       "      <td>0.1</td>\n",
       "      <td>0.00</td>\n",
       "      <td>3</td>\n",
       "      <td>1</td>\n",
       "      <td>Unrelated LP-PUF Overall Reliability</td>\n",
       "      <td>0.000477</td>\n",
       "    </tr>\n",
       "    <tr>\n",
       "      <th>598</th>\n",
       "      <td>64</td>\n",
       "      <td>0.1</td>\n",
       "      <td>0.00</td>\n",
       "      <td>4</td>\n",
       "      <td>4</td>\n",
       "      <td>Unrelated LP-PUF Overall Reliability</td>\n",
       "      <td>0.007537</td>\n",
       "    </tr>\n",
       "    <tr>\n",
       "      <th>599</th>\n",
       "      <td>64</td>\n",
       "      <td>0.1</td>\n",
       "      <td>0.01</td>\n",
       "      <td>8</td>\n",
       "      <td>4</td>\n",
       "      <td>Unrelated LP-PUF Overall Reliability</td>\n",
       "      <td>0.003524</td>\n",
       "    </tr>\n",
       "  </tbody>\n",
       "</table>\n",
       "<p>600 rows × 7 columns</p>\n",
       "</div>"
      ],
      "text/plain": [
       "      n  noisiness_1  noisiness_2  seed   m  \\\n",
       "0    64          0.1         0.01    24   1   \n",
       "1    64          0.1         0.00     8  16   \n",
       "2    64          0.1         0.00    23   8   \n",
       "3    64          0.1         0.01    22   4   \n",
       "4    64          0.1         0.00    13   4   \n",
       "..   ..          ...          ...   ...  ..   \n",
       "595  64          0.1         0.01     5   2   \n",
       "596  64          0.1         0.01    25  16   \n",
       "597  64          0.1         0.00     3   1   \n",
       "598  64          0.1         0.00     4   4   \n",
       "599  64          0.1         0.01     8   4   \n",
       "\n",
       "    Correlation of Layer 1 reliability with  correlation  \n",
       "0                LP-PUF Overall Reliability     0.004603  \n",
       "1                LP-PUF Overall Reliability     0.003649  \n",
       "2                LP-PUF Overall Reliability     0.004828  \n",
       "3                LP-PUF Overall Reliability     0.003341  \n",
       "4                LP-PUF Overall Reliability     0.003983  \n",
       "..                                      ...          ...  \n",
       "595    Unrelated LP-PUF Overall Reliability     0.004370  \n",
       "596    Unrelated LP-PUF Overall Reliability     0.006729  \n",
       "597    Unrelated LP-PUF Overall Reliability     0.000477  \n",
       "598    Unrelated LP-PUF Overall Reliability     0.007537  \n",
       "599    Unrelated LP-PUF Overall Reliability     0.003524  \n",
       "\n",
       "[600 rows x 7 columns]"
      ]
     },
     "execution_count": 11,
     "metadata": {},
     "output_type": "execute_result"
    }
   ],
   "source": [
    "data['LP-PUF Overall Reliability'] = data['rcorr_abs_max']\n",
    "data['Unrelated LP-PUF Overall Reliability'] = data['rcorra_abs_max']\n",
    "melted_data = data[data.iloc[0]['parameters']+['LP-PUF Overall Reliability', 'Unrelated LP-PUF Overall Reliability']].melt(\n",
    "    id_vars=data.iloc[0]['parameters'], \n",
    "    var_name='Correlation of Layer 1 reliability with', \n",
    "    value_name='correlation',\n",
    ")\n",
    "melted_data"
   ]
  },
  {
   "cell_type": "code",
   "execution_count": 18,
   "metadata": {
    "scrolled": false
   },
   "outputs": [
    {
     "data": {
      "image/png": "[encoded data removed]",
      "text/plain": [
       "<Figure size 432x288 with 2 Axes>"
      ]
     },
     "metadata": {
      "needs_background": "light"
     },
     "output_type": "display_data"
    }
   ],
   "source": [
    "melted_data['Noise Layer 1'] = melted_data['noisiness_1']\n",
    "melted_data['Noise Layer 3'] = melted_data['noisiness_2']\n",
    "\n",
    "g = sns.catplot(\n",
    "    data=melted_data,\n",
    "    x='m',\n",
    "    y='correlation',\n",
    "    hue='Correlation of Layer 1 reliability with',\n",
    "    row='Noise Layer 3',\n",
    "    col='Noise Layer 1',\n",
    "    kind='boxen',\n",
    "    aspect=3/1,\n",
    "    height=2,\n",
    "    legend_out=False,\n",
    ")\n",
    "g.tight_layout()\n",
    "g.savefig('figures/lppufv1-reliability-correlation-layer-1.pdf')"
   ]
  },
  {
   "cell_type": "markdown",
   "metadata": {},
   "source": [
    "## Sanity Check: Reliability Correlation of Interpose PUFs with Top Layer"
   ]
  },
  {
   "cell_type": "code",
   "execution_count": 13,
   "metadata": {},
   "outputs": [],
   "source": [
    "puf = pypuf.simulation.InterposePUF(n=64, k_up=1, k_down=8, seed=1, noisiness=.05)\n",
    "pufa = pypuf.simulation.InterposePUF(n=64, k_up=1, k_down=8, seed=2, noisiness=.05)\n",
    "\n",
    "r = 15\n",
    "N = 100000\n",
    "\n",
    "challenges = pypuf.io.random_inputs(n=64, N=N, seed=1)\n",
    "r1 = np.average(puf.up.r_eval(r=r, challenges=challenges), axis=-1)\n",
    "r2 = np.average(puf.r_eval(r=r, challenges=challenges), axis=-1)\n",
    "r2a = np.average(pufa.r_eval(r=r, challenges=challenges), axis=-1)"
   ]
  },
  {
   "cell_type": "code",
   "execution_count": 14,
   "metadata": {},
   "outputs": [
    {
     "data": {
      "text/plain": [
       "(0.0015845569848167203, -0.00128801268202545)"
      ]
     },
     "execution_count": 14,
     "metadata": {},
     "output_type": "execute_result"
    }
   ],
   "source": [
    "sp.stats.pearsonr(r1[:, 0], r2[:, 0])[0], sp.stats.pearsonr(r1[:, 0], r2a[:, 0])[0]"
   ]
  },
  {
   "cell_type": "code",
   "execution_count": null,
   "metadata": {},
   "outputs": [],
   "source": []
  }
 ],
 "metadata": {
  "kernelspec": {
   "display_name": "Python 3",
   "language": "python",
   "name": "python3"
  },
  "language_info": {
   "codemirror_mode": {
    "name": "ipython",
    "version": 3
   },
   "file_extension": ".py",
   "mimetype": "text/x-python",
   "name": "python",
   "nbconvert_exporter": "python",
   "pygments_lexer": "ipython3",
   "version": "3.8.10"
  }
 },
 "nbformat": 4,
 "nbformat_minor": 4
}
