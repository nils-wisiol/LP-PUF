{
 "cells": [
  {
   "cell_type": "markdown",
   "metadata": {},
   "source": [
    "# LPPUFv1 Bias Analysis"
   ]
  },
  {
   "cell_type": "code",
   "execution_count": 1,
   "metadata": {},
   "outputs": [],
   "source": [
    "import numpy as np\n",
    "import pypuf.batch\n",
    "import pypuf.metrics\n",
    "\n",
    "from lppuf import LPPUFv1"
   ]
  },
  {
   "cell_type": "code",
   "execution_count": 2,
   "metadata": {},
   "outputs": [],
   "source": [
    "import logging\n",
    "\n",
    "logging.basicConfig(level=logging.DEBUG)\n",
    "logging.getLogger('matplotlib').setLevel(logging.ERROR)"
   ]
  },
  {
   "cell_type": "code",
   "execution_count": 3,
   "metadata": {},
   "outputs": [],
   "source": [
    "%%bash\n",
    "#rm -rf results/v1/uniqueness\n",
    "mkdir -p results/v1/bias"
   ]
  },
  {
   "cell_type": "code",
   "execution_count": 4,
   "metadata": {},
   "outputs": [],
   "source": [
    "results = pypuf.batch.FilesystemResultCollection('results/v1/bias')"
   ]
  },
  {
   "cell_type": "code",
   "execution_count": 5,
   "metadata": {},
   "outputs": [],
   "source": [
    "class LPPUFv1BiasAnalysis(pypuf.batch.StudyBase):\n",
    "    \n",
    "    def parameter_matrix(self):\n",
    "        return [\n",
    "            dict(\n",
    "                n=n,\n",
    "                noisiness_1=noisiness_1,\n",
    "                noisiness_2=noisiness_2,\n",
    "                num=num,\n",
    "                seed=seed,\n",
    "                m=m,\n",
    "            )\n",
    "            for n in [64]\n",
    "            for noisiness_1 in [0] # .01,.02,.05,.1, .2, .35, .5]\n",
    "            for noisiness_2 in [0] # .01,.02,.05,.1, .2, .35, .5]\n",
    "            for num in [10]\n",
    "            for seed in range(100)\n",
    "            for m in [2, 4, 8, 16]\n",
    "        ]\n",
    "    \n",
    "    def run(self, n, noisiness_1, noisiness_2, num, m, seed):\n",
    "        puf = LPPUFv1(\n",
    "            n=n, m=m, noisiness_1=noisiness_1, noisiness_2=noisiness_2, \n",
    "            seed=pypuf.simulation.base.Simulation.seed(f\"LP-PUF Bias Experiment Seed {seed}\"),\n",
    "        )\n",
    "        layer3_puf = puf.layer[2]\n",
    "        return {\n",
    "            'b': pypuf.metrics.bias(puf, seed=31415, N=10000),\n",
    "            'b3': pypuf.metrics.bias(layer3_puf, seed=31415, N=10000),\n",
    "        } "
   ]
  },
  {
   "cell_type": "code",
   "execution_count": 6,
   "metadata": {},
   "outputs": [],
   "source": [
    "study = LPPUFv1BiasAnalysis(results)"
   ]
  },
  {
   "cell_type": "code",
   "execution_count": 7,
   "metadata": {
    "scrolled": true
   },
   "outputs": [
    {
     "name": "stderr",
     "output_type": "stream",
     "text": [
      "DEBUG:root:LPPUFv1BiasAnalysis: running 0 unfinished jobs from a batch of 400 (400 of this batch already completed, batch total 400, study total 400 jobs)\n"
     ]
    }
   ],
   "source": [
    "study.run_all()"
   ]
  },
  {
   "cell_type": "code",
   "execution_count": 8,
   "metadata": {},
   "outputs": [],
   "source": [
    "import pandas as pd"
   ]
  },
  {
   "cell_type": "code",
   "execution_count": 9,
   "metadata": {},
   "outputs": [],
   "source": [
    "data = pd.DataFrame(results.load_all())"
   ]
  },
  {
   "cell_type": "code",
   "execution_count": 10,
   "metadata": {},
   "outputs": [],
   "source": [
    "import matplotlib.pyplot as plt\n",
    "import seaborn as sns"
   ]
  },
  {
   "cell_type": "code",
   "execution_count": 11,
   "metadata": {},
   "outputs": [],
   "source": [
    "data['LP-PUF'] = data['b']\n",
    "data['Layer 3'] = data['b3']"
   ]
  },
  {
   "cell_type": "code",
   "execution_count": 12,
   "metadata": {},
   "outputs": [],
   "source": [
    "melted_data = data[data.iloc[0]['parameters'] + ['LP-PUF', 'Layer 3']].melt(\n",
    "    id_vars=['n', 'noisiness_1', 'noisiness_2', 'num', 'seed', 'm'],\n",
    "    var_name=['component'],\n",
    "    value_name='bias',\n",
    ")"
   ]
  },
  {
   "cell_type": "code",
   "execution_count": 14,
   "metadata": {
    "scrolled": false
   },
   "outputs": [
    {
     "data": {
      "image/png": "[encoded data removed]",
      "text/plain": [
       "<Figure size 414x180 with 1 Axes>"
      ]
     },
     "metadata": {
      "needs_background": "light"
     },
     "output_type": "display_data"
    }
   ],
   "source": [
    "sns.catplot(\n",
    "    x='m', \n",
    "    y='bias', \n",
    "    #row='noisiness_1', \n",
    "    #col='noisiness_2', \n",
    "    hue='component', \n",
    "    data=melted_data,\n",
    "    kind='box',\n",
    "    aspect=2.3/1,\n",
    "    height=2.5,\n",
    "    legend_out=False,\n",
    ")\n",
    "plt.tight_layout()\n",
    "plt.savefig('figures/lppufv1-bias.pdf')"
   ]
  },
  {
   "cell_type": "code",
   "execution_count": null,
   "metadata": {},
   "outputs": [],
   "source": []
  }
 ],
 "metadata": {
  "kernelspec": {
   "display_name": "Python 3",
   "language": "python",
   "name": "python3"
  },
  "language_info": {
   "codemirror_mode": {
    "name": "ipython",
    "version": 3
   },
   "file_extension": ".py",
   "mimetype": "text/x-python",
   "name": "python",
   "nbconvert_exporter": "python",
   "pygments_lexer": "ipython3",
   "version": "3.8.10"
  }
 },
 "nbformat": 4,
 "nbformat_minor": 4
}
