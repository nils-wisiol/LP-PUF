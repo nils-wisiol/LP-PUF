{
 "cells": [
  {
   "cell_type": "markdown",
   "metadata": {},
   "source": [
    "# LPPUFv1 Uniqueness Analysis"
   ]
  },
  {
   "cell_type": "code",
   "execution_count": 1,
   "metadata": {},
   "outputs": [],
   "source": [
    "import numpy as np\n",
    "import pypuf.batch\n",
    "import pypuf.metrics\n",
    "\n",
    "from lppuf import LPPUFv1"
   ]
  },
  {
   "cell_type": "code",
   "execution_count": 2,
   "metadata": {},
   "outputs": [],
   "source": [
    "import logging\n",
    "\n",
    "logging.basicConfig(level=logging.DEBUG)\n",
    "logging.getLogger('matplotlib').setLevel(logging.ERROR)"
   ]
  },
  {
   "cell_type": "code",
   "execution_count": 3,
   "metadata": {},
   "outputs": [],
   "source": [
    "%%bash\n",
    "#rm -rf results/v1/uniqueness\n",
    "mkdir -p results/v1/uniqueness"
   ]
  },
  {
   "cell_type": "code",
   "execution_count": 4,
   "metadata": {},
   "outputs": [],
   "source": [
    "results = pypuf.batch.FilesystemResultCollection('results/v1/uniqueness')"
   ]
  },
  {
   "cell_type": "code",
   "execution_count": 5,
   "metadata": {},
   "outputs": [],
   "source": [
    "class LPPUFv1UniquenessAnalysis(pypuf.batch.StudyBase):\n",
    "    \n",
    "    def parameter_matrix(self):\n",
    "        return [\n",
    "            dict(\n",
    "                n=n,\n",
    "                noisiness_1=noisiness_1,\n",
    "                noisiness_2=noisiness_2,\n",
    "                num=num,\n",
    "                seed=seed,\n",
    "                m=m,\n",
    "            )\n",
    "            for n in [64]\n",
    "            for noisiness_1 in [0] # .01,.02,.05,.1, .2, .35, .5]\n",
    "            for noisiness_2 in [0] # .01,.02,.05,.1, .2, .35, .5]\n",
    "            for num in [10]\n",
    "            for seed in range(100)\n",
    "            for m in [2, 4, 8, 16]\n",
    "        ]\n",
    "    \n",
    "    def run(self, n, noisiness_1, noisiness_2, num, m, seed):\n",
    "        pufs = [\n",
    "            LPPUFv1(\n",
    "                n=n, m=m, noisiness_1=noisiness_1, noisiness_2=noisiness_2, \n",
    "                seed=pypuf.simulation.base.Simulation.seed(f\"LP-PUF Uniqueness Experiment Seed {seed} Instance {i}\"),\n",
    "            )\n",
    "            for i in range(num)\n",
    "        ]\n",
    "        layer3 = [\n",
    "            puf.layer[2] for puf in pufs\n",
    "        ]\n",
    "        return {\n",
    "            'u': pypuf.metrics.uniqueness(pufs, seed=31415, N=10000),\n",
    "            'u3': pypuf.metrics.uniqueness(layer3, seed=31415, N=10000),\n",
    "        } "
   ]
  },
  {
   "cell_type": "code",
   "execution_count": 6,
   "metadata": {},
   "outputs": [],
   "source": [
    "study = LPPUFv1UniquenessAnalysis(results)"
   ]
  },
  {
   "cell_type": "code",
   "execution_count": 7,
   "metadata": {
    "scrolled": true
   },
   "outputs": [
    {
     "name": "stderr",
     "output_type": "stream",
     "text": [
      "DEBUG:root:LPPUFv1UniquenessAnalysis: running 0 unfinished jobs from a batch of 400 (400 of this batch already completed, batch total 400, study total 400 jobs)\n"
     ]
    }
   ],
   "source": [
    "study.run_all()"
   ]
  },
  {
   "cell_type": "code",
   "execution_count": 8,
   "metadata": {},
   "outputs": [],
   "source": [
    "import pandas as pd"
   ]
  },
  {
   "cell_type": "code",
   "execution_count": 9,
   "metadata": {},
   "outputs": [],
   "source": [
    "data = pd.DataFrame(results.load_all())\n",
    "data['u'] = data.apply(lambda row: row['u'][0], axis=1)\n",
    "data['u3'] = data.apply(lambda row: row['u3'][0], axis=1)"
   ]
  },
  {
   "cell_type": "code",
   "execution_count": 10,
   "metadata": {},
   "outputs": [],
   "source": [
    "import matplotlib.pyplot as plt\n",
    "import seaborn as sns"
   ]
  },
  {
   "cell_type": "code",
   "execution_count": 11,
   "metadata": {},
   "outputs": [],
   "source": [
    "data['LP-PUF'] = data['u']\n",
    "data['Layer 3'] = data['u3']"
   ]
  },
  {
   "cell_type": "code",
   "execution_count": 12,
   "metadata": {},
   "outputs": [],
   "source": [
    "melted_data = data[data.iloc[0]['parameters'] + ['LP-PUF', 'Layer 3']].melt(\n",
    "    id_vars=['n', 'noisiness_1', 'noisiness_2', 'num', 'seed', 'm'],\n",
    "    var_name=['component'],\n",
    "    value_name='uniqueness',\n",
    ")"
   ]
  },
  {
   "cell_type": "code",
   "execution_count": 17,
   "metadata": {
    "scrolled": false
   },
   "outputs": [
    {
     "data": {
      "image/png": "[encoded data removed]",
      "text/plain": [
       "<Figure size 414x180 with 1 Axes>"
      ]
     },
     "metadata": {
      "needs_background": "light"
     },
     "output_type": "display_data"
    }
   ],
   "source": [
    "g = sns.catplot(\n",
    "    x='m', \n",
    "    y='uniqueness', \n",
    "    #row='noisiness_1', \n",
    "    #col='noisiness_2', \n",
    "    hue='component', \n",
    "    data=melted_data,\n",
    "    kind='box',\n",
    "    aspect=2.3/1,\n",
    "    height=2.5,\n",
    "    legend_out=False,\n",
    ")\n",
    "plt.tight_layout()\n",
    "plt.savefig('figures/lppufv1-uniqueness.pdf')"
   ]
  },
  {
   "cell_type": "code",
   "execution_count": null,
   "metadata": {},
   "outputs": [],
   "source": []
  },
  {
   "cell_type": "code",
   "execution_count": null,
   "metadata": {},
   "outputs": [],
   "source": []
  },
  {
   "cell_type": "code",
   "execution_count": null,
   "metadata": {},
   "outputs": [],
   "source": []
  },
  {
   "cell_type": "code",
   "execution_count": null,
   "metadata": {},
   "outputs": [],
   "source": []
  }
 ],
 "metadata": {
  "kernelspec": {
   "display_name": "Python 3",
   "language": "python",
   "name": "python3"
  },
  "language_info": {
   "codemirror_mode": {
    "name": "ipython",
    "version": 3
   },
   "file_extension": ".py",
   "mimetype": "text/x-python",
   "name": "python",
   "nbconvert_exporter": "python",
   "pygments_lexer": "ipython3",
   "version": "3.8.10"
  }
 },
 "nbformat": 4,
 "nbformat_minor": 4
}
