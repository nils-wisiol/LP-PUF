{
 "cells": [
  {
   "cell_type": "markdown",
   "metadata": {},
   "source": [
    "# LPPUFv1 Overall MLP Attack"
   ]
  },
  {
   "cell_type": "code",
   "execution_count": 1,
   "metadata": {},
   "outputs": [],
   "source": [
    "import math\n",
    "\n",
    "import numpy as np\n",
    "import pandas as pd\n",
    "import seaborn as sns\n",
    "\n",
    "import pypuf.batch\n"
   ]
  },
  {
   "cell_type": "code",
   "execution_count": 2,
   "metadata": {},
   "outputs": [],
   "source": [
    "results = pypuf.batch.FilesystemResultCollection('results/v1/mlp-full')"
   ]
  },
  {
   "cell_type": "code",
   "execution_count": 3,
   "metadata": {},
   "outputs": [],
   "source": [
    "data = pd.DataFrame(results.load_all())\n",
    "\n",
    "data['accuracy'] = data.apply(lambda row: row['accuracy'][0], axis=1)\n",
    "data['memory_max'] = data.apply(lambda row: np.max(row['memory']), axis=1)\n",
    "\n",
    "def Ncat(N):\n",
    "    ext = {'G': 9, 'M': 6, 'k': 3}\n",
    "    for label, mag in ext.items():\n",
    "        if N > 10**mag:\n",
    "            return f\"{N//10**mag}{label}\"\n",
    "    return f\"{N}\"\n",
    "\n",
    "data['Ncat'] = data.apply(lambda row: Ncat(row['N']), axis=1)\n",
    "\n",
    "def netcat(net):\n",
    "    return \"-\".join(str(int(math.log2(l))) for l in net)\n",
    "\n",
    "data['netcat'] = data.apply(lambda row: netcat(row['net']), axis=1)"
   ]
  },
  {
   "cell_type": "code",
   "execution_count": 4,
   "metadata": {
    "scrolled": false
   },
   "outputs": [
    {
     "data": {
      "image/png": "[encoded data removed]",
      "text/plain": [
       "<Figure size 367.2x244.8 with 2 Axes>"
      ]
     },
     "metadata": {
      "needs_background": "light"
     },
     "output_type": "display_data"
    }
   ],
   "source": [
    "data['#CRPs'] = data['Ncat']\n",
    "data['MLP hidden layers'] = data['netcat']\n",
    "\n",
    "g = sns.catplot(\n",
    "    x='#CRPs', \n",
    "    y='accuracy', \n",
    "    row='m', \n",
    "    hue='MLP hidden layers', \n",
    "    #hue='Correlation with', \n",
    "    data=data[data['m'] > 1],\n",
    "    kind='box',\n",
    "    aspect=3/1,\n",
    "    height=1.7,\n",
    "    order=list(map(Ncat, sorted(data['N'].unique()))),\n",
    "    legend_out=False,\n",
    ")\n",
    "g.set(ylim=[.42,1], yticks=[.5, .75, 1.], yticklabels=[.5, .75, 1.])\n",
    "g.fig.savefig('figures/lppufv1-mlp-attack.pdf')"
   ]
  },
  {
   "cell_type": "code",
   "execution_count": null,
   "metadata": {},
   "outputs": [],
   "source": []
  }
 ],
 "metadata": {
  "kernelspec": {
   "display_name": "Python 3",
   "language": "python",
   "name": "python3"
  },
  "language_info": {
   "codemirror_mode": {
    "name": "ipython",
    "version": 3
   },
   "file_extension": ".py",
   "mimetype": "text/x-python",
   "name": "python",
   "nbconvert_exporter": "python",
   "pygments_lexer": "ipython3",
   "version": "3.8.10"
  }
 },
 "nbformat": 4,
 "nbformat_minor": 4
}